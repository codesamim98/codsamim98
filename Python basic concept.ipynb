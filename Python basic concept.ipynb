{
 "cells": [
  {
   "cell_type": "code",
   "execution_count": 1,
   "id": "7ce17f54-90d4-4e5f-a5a0-bb8b7903d972",
   "metadata": {},
   "outputs": [
    {
     "name": "stdout",
     "output_type": "stream",
     "text": [
      "Twinkle, twinkle, little star,\n",
      "How I wonder what you are!\n",
      "Up above the world so high,\n",
      "Like a diamond in the sky.\n",
      "\n",
      "When the blazing sun is gone,\n",
      "When he nothing shines upon,\n",
      "Then you show your little light,\n",
      "Twinkle, twinkle, all the night.\n",
      "\n",
      "Then the trav'ller in the dark,\n",
      "Thanks you for your tiny spark,\n",
      "He could not see which way to go,\n",
      "If you did not twinkle so.\n",
      "\n",
      "In the dark blue sky you keep,\n",
      "And often thro' my curtains peep,\n",
      "For you never shut your eye,\n",
      "Till the sun is in the sky.\n",
      "\n",
      "'Tis your bright and tiny spark,\n",
      "Lights the trav'ller in the dark:\n",
      "Tho' I know not what you are,\n",
      "Twinkle, twinkle, little star.\n"
     ]
    }
   ],
   "source": [
    "print(\"\"\"Twinkle, twinkle, little star,\n",
    "How I wonder what you are!\n",
    "Up above the world so high,\n",
    "Like a diamond in the sky.\n",
    "\n",
    "When the blazing sun is gone,\n",
    "When he nothing shines upon,\n",
    "Then you show your little light,\n",
    "Twinkle, twinkle, all the night.\n",
    "\n",
    "Then the trav'ller in the dark,\n",
    "Thanks you for your tiny spark,\n",
    "He could not see which way to go,\n",
    "If you did not twinkle so.\n",
    "\n",
    "In the dark blue sky you keep,\n",
    "And often thro' my curtains peep,\n",
    "For you never shut your eye,\n",
    "Till the sun is in the sky.\n",
    "\n",
    "'Tis your bright and tiny spark,\n",
    "Lights the trav'ller in the dark:\n",
    "Tho' I know not what you are,\n",
    "Twinkle, twinkle, little star.\"\"\")   # we can print multiple line at a time using triple quotes in beetween parenthesis()."
   ]
  },
  {
   "cell_type": "code",
   "execution_count": null,
   "id": "e19f432d-1040-4f10-87c0-836743cf3aa7",
   "metadata": {},
   "outputs": [],
   "source": []
  },
  {
   "cell_type": "code",
   "execution_count": 28,
   "id": "7adb316b-73a4-4725-a2b1-cb6ce80bfeba",
   "metadata": {},
   "outputs": [
    {
     "name": "stdout",
     "output_type": "stream",
     "text": [
      "I am learning python\n"
     ]
    }
   ],
   "source": [
    "print(\"I am learning python\")  # we can print single line by using double quotes in bettween parenthesis()"
   ]
  },
  {
   "cell_type": "code",
   "execution_count": 2,
   "id": "65a6df16-c861-4f4e-9b5a-c6fc1114b605",
   "metadata": {},
   "outputs": [
    {
     "name": "stdout",
     "output_type": "stream",
     "text": [
      "False\n"
     ]
    }
   ],
   "source": [
    "a=6<2  # comparision operator\n",
    "print(a)"
   ]
  },
  {
   "cell_type": "code",
   "execution_count": 26,
   "id": "66b4142a-119e-444c-a237-5550ef824ee5",
   "metadata": {},
   "outputs": [
    {
     "name": "stdout",
     "output_type": "stream",
     "text": [
      "9\n"
     ]
    }
   ],
   "source": [
    "a=5  # assign operator where 5 is assign to a .\n",
    "b=4\n",
    "print(a+b)  # arrithmatic operator "
   ]
  },
  {
   "cell_type": "code",
   "execution_count": 27,
   "id": "fa9207c9-cf1f-4ff8-9752-36d9385dd974",
   "metadata": {},
   "outputs": [
    {
     "name": "stdout",
     "output_type": "stream",
     "text": [
      "True\n"
     ]
    }
   ],
   "source": [
    "c=5>4  # comparision operator\n",
    "print(c)"
   ]
  },
  {
   "cell_type": "code",
   "execution_count": 9,
   "id": "8216edd4-ff13-4a39-a787-25d6178854f3",
   "metadata": {},
   "outputs": [
    {
     "name": "stdout",
     "output_type": "stream",
     "text": [
      "12\n"
     ]
    }
   ],
   "source": [
    "b=6\n",
    "b+=6\n",
    "print(b)"
   ]
  },
  {
   "cell_type": "code",
   "execution_count": 10,
   "id": "61f268c2-0ec5-4bbd-8f6e-61f921de503f",
   "metadata": {},
   "outputs": [
    {
     "name": "stdout",
     "output_type": "stream",
     "text": [
      "72\n"
     ]
    }
   ],
   "source": [
    "b*=6\n",
    "print(b)"
   ]
  },
  {
   "cell_type": "code",
   "execution_count": 11,
   "id": "e0257da7-2756-40b7-9a53-8730e16bc58a",
   "metadata": {},
   "outputs": [
    {
     "name": "stdout",
     "output_type": "stream",
     "text": [
      "9.0\n"
     ]
    }
   ],
   "source": [
    "b/=8\n",
    "print(b)"
   ]
  },
  {
   "cell_type": "code",
   "execution_count": 18,
   "id": "12598922-dcdd-4e6e-a1a9-37f35b96f5d6",
   "metadata": {},
   "outputs": [
    {
     "name": "stdout",
     "output_type": "stream",
     "text": [
      "True\n"
     ]
    }
   ],
   "source": [
    "s=12>9 # comparision operator\n",
    "print(s)"
   ]
  },
  {
   "cell_type": "code",
   "execution_count": 14,
   "id": "d052a6f9-4db8-453c-b1bc-239f4647903e",
   "metadata": {},
   "outputs": [
    {
     "name": "stdout",
     "output_type": "stream",
     "text": [
      "False\n"
     ]
    }
   ],
   "source": [
    "s=4<1 # comparision operator\n",
    "\n",
    "print(s)"
   ]
  },
  {
   "cell_type": "code",
   "execution_count": 15,
   "id": "7bbef31b-390d-4fcc-b153-c6986da65eea",
   "metadata": {},
   "outputs": [
    {
     "name": "stdout",
     "output_type": "stream",
     "text": [
      "True\n"
     ]
    }
   ],
   "source": [
    "d=5<=5\n",
    "print(d)"
   ]
  },
  {
   "cell_type": "code",
   "execution_count": 17,
   "id": "3837dbc2-081a-4f1d-9dc3-892df9dbe180",
   "metadata": {},
   "outputs": [
    {
     "name": "stdout",
     "output_type": "stream",
     "text": [
      "False\n"
     ]
    }
   ],
   "source": [
    "d=5!=5  # not equal to operator, comparision operator\n",
    "print(d)"
   ]
  },
  {
   "cell_type": "code",
   "execution_count": 19,
   "id": "7b198866-9da4-4cdc-abb9-c49da51a8259",
   "metadata": {},
   "outputs": [
    {
     "name": "stdout",
     "output_type": "stream",
     "text": [
      "True\n"
     ]
    }
   ],
   "source": [
    "s= 4==4 # comparision operator\n",
    "print(s)"
   ]
  },
  {
   "cell_type": "code",
   "execution_count": 20,
   "id": "a2b0529f-5bf5-4fd5-9b3b-81514ce7bf1c",
   "metadata": {},
   "outputs": [
    {
     "name": "stdout",
     "output_type": "stream",
     "text": [
      "False\n"
     ]
    }
   ],
   "source": [
    "s=True and False  # logical operator for \"and\"\n",
    "print(s)"
   ]
  },
  {
   "cell_type": "code",
   "execution_count": 21,
   "id": "8d30955c-5e35-4569-a546-b14bef528018",
   "metadata": {},
   "outputs": [
    {
     "name": "stdout",
     "output_type": "stream",
     "text": [
      "True\n"
     ]
    }
   ],
   "source": [
    "s=True and True # for and if both input are True only then it gives \"True\"\n",
    "print(s)"
   ]
  },
  {
   "cell_type": "code",
   "execution_count": 22,
   "id": "efd75a96-336b-47c8-b9d7-f70b7ee03800",
   "metadata": {},
   "outputs": [
    {
     "name": "stdout",
     "output_type": "stream",
     "text": [
      "True\n"
     ]
    }
   ],
   "source": [
    "B= True or False  # logical operator for \"Or\"\n",
    "print(s)"
   ]
  },
  {
   "cell_type": "code",
   "execution_count": 23,
   "id": "3b50f55d-c33c-4b17-9e53-93bc954ad093",
   "metadata": {},
   "outputs": [
    {
     "name": "stdout",
     "output_type": "stream",
     "text": [
      "False\n"
     ]
    }
   ],
   "source": [
    "b=False or False   # for \"or\" if both input are False  only then it gives False, otherwise alaways gives True\n",
    "print(b)"
   ]
  },
  {
   "cell_type": "code",
   "execution_count": 24,
   "id": "e4d1c853-a852-4da0-b751-f5efce94eeb2",
   "metadata": {},
   "outputs": [
    {
     "name": "stdout",
     "output_type": "stream",
     "text": [
      "False\n"
     ]
    }
   ],
   "source": [
    "B= print(not(True))  # logical operator for \"not\""
   ]
  },
  {
   "cell_type": "code",
   "execution_count": 25,
   "id": "b310c998-bfee-4e35-9ee7-9c692f1db02e",
   "metadata": {},
   "outputs": [
    {
     "name": "stdout",
     "output_type": "stream",
     "text": [
      "True\n"
     ]
    }
   ],
   "source": [
    "B= print(not(False))  # not true means false , not false means true."
   ]
  },
  {
   "cell_type": "code",
   "execution_count": 29,
   "id": "ab83054b-6443-4975-87c6-8f300cdbd473",
   "metadata": {},
   "outputs": [
    {
     "name": "stdout",
     "output_type": "stream",
     "text": [
      "<class 'int'>\n"
     ]
    }
   ],
   "source": [
    "s=6   # data type > this is 'int' or integer\n",
    "type(s)\n",
    "print(type(s))"
   ]
  },
  {
   "cell_type": "code",
   "execution_count": 30,
   "id": "1da5f3b4-346f-42de-ae33-5b474d5b1630",
   "metadata": {},
   "outputs": [
    {
     "name": "stdout",
     "output_type": "stream",
     "text": [
      "<class 'float'>\n"
     ]
    }
   ],
   "source": [
    "a=5.4  # # data type > this is 'float' or float value\n",
    "type(a)\n",
    "print(type(a))"
   ]
  },
  {
   "cell_type": "code",
   "execution_count": 31,
   "id": "a31c6734-af56-4bdb-8cb5-e6e793d67816",
   "metadata": {},
   "outputs": [
    {
     "name": "stdout",
     "output_type": "stream",
     "text": [
      "<class 'str'>\n"
     ]
    }
   ],
   "source": [
    "s = \"samim\"   # data type > this is 'string' or string value\n",
    "type(s)\n",
    "print(type(s))"
   ]
  },
  {
   "cell_type": "code",
   "execution_count": 32,
   "id": "32b062b8-ab73-4eb3-b85d-dc07c98e56ff",
   "metadata": {},
   "outputs": [
    {
     "data": {
      "text/plain": [
       "str"
      ]
     },
     "execution_count": 32,
     "metadata": {},
     "output_type": "execute_result"
    }
   ],
   "source": [
    "s = \"5.6\"  # string data type\n",
    "type(s)"
   ]
  },
  {
   "cell_type": "code",
   "execution_count": 35,
   "id": "38761a7b-c7d6-42a5-8235-4d804f2c9fe9",
   "metadata": {},
   "outputs": [
    {
     "name": "stdout",
     "output_type": "stream",
     "text": [
      "5.6\n"
     ]
    }
   ],
   "source": [
    "b=float(s)  # convert into float\n",
    "print(b)"
   ]
  },
  {
   "cell_type": "code",
   "execution_count": 36,
   "id": "5187cf12-6056-40d1-ada5-0b84486f45bd",
   "metadata": {},
   "outputs": [
    {
     "name": "stdout",
     "output_type": "stream",
     "text": [
      "5\n"
     ]
    }
   ],
   "source": [
    "d = int(b) # then convert into integer .This is type casting where as we can type cast one data type to another data type.\n",
    "\n",
    "print(d)"
   ]
  },
  {
   "cell_type": "code",
   "execution_count": 37,
   "id": "23b8505b-0f96-4ec1-bc62-7b07df369ac5",
   "metadata": {},
   "outputs": [
    {
     "name": "stdin",
     "output_type": "stream",
     "text": [
      "enter a number 1 :  12\n",
      "enter a number 2 :  6\n"
     ]
    },
    {
     "name": "stdout",
     "output_type": "stream",
     "text": [
      "number a is 12\n",
      "number b is  6\n",
      "sum is  18\n"
     ]
    }
   ],
   "source": [
    "a = int(input(\"enter a number 1 : \")) # By default output of input function is string thats why we do type cast first to this operation\n",
    "b = int(input(\"enter a number 2 : \"))\n",
    "\n",
    "print(\"number a is\" , a )\n",
    "print(\"number b is \" , b)\n",
    "print(\"sum is \" , a+b )\n",
    "        "
   ]
  },
  {
   "cell_type": "code",
   "execution_count": 49,
   "id": "b748065a-4a25-4faa-8fe3-a1a997f8758e",
   "metadata": {},
   "outputs": [
    {
     "name": "stdin",
     "output_type": "stream",
     "text": [
      " please enter your name :  samim kamal\n",
      " please enter your age :  26\n"
     ]
    },
    {
     "name": "stdout",
     "output_type": "stream",
     "text": [
      " I am  samim kamal\n",
      " i am  26 years old\n"
     ]
    }
   ],
   "source": [
    "name = input(\" please enter your name : \") # using input fuction python can take input from user.\n",
    "age = input(\" please enter your age : \")\n",
    "print( \" I am \" , name )\n",
    "print( \" i am \" , age , \"years old\")"
   ]
  },
  {
   "cell_type": "code",
   "execution_count": 50,
   "id": "e579cab6-1efd-4d0b-88a6-4f6a154fbaa7",
   "metadata": {},
   "outputs": [
    {
     "name": "stdin",
     "output_type": "stream",
     "text": [
      " please enter your course name :  Data Analytics\n",
      " please enter your duration :  6\n"
     ]
    },
    {
     "name": "stdout",
     "output_type": "stream",
     "text": [
      " i am doing  Data Analytics\n",
      " and it will go on upto 6 months\n"
     ]
    }
   ],
   "source": [
    "a = input(\" please enter your course name : \")\n",
    "b = input ( \" please enter your duration : \")\n",
    "print(\" i am doing \" , a )\n",
    "print(\" and it will go on upto\" , b ,\"months\" )"
   ]
  },
  {
   "cell_type": "code",
   "execution_count": null,
   "id": "e38825d3-9c91-4388-9b25-b7de7d5f1fc2",
   "metadata": {},
   "outputs": [],
   "source": []
  }
 ],
 "metadata": {
  "kernelspec": {
   "display_name": "Python 3 (ipykernel)",
   "language": "python",
   "name": "python3"
  },
  "language_info": {
   "codemirror_mode": {
    "name": "ipython",
    "version": 3
   },
   "file_extension": ".py",
   "mimetype": "text/x-python",
   "name": "python",
   "nbconvert_exporter": "python",
   "pygments_lexer": "ipython3",
   "version": "3.13.3"
  }
 },
 "nbformat": 4,
 "nbformat_minor": 5
}
